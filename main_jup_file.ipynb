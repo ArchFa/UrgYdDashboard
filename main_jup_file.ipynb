{
 "cells": [
  {
   "cell_type": "code",
   "execution_count": 29,
   "metadata": {},
   "outputs": [],
   "source": [
    "# импорт библиотек\n",
    "\n",
    "import pandas as pd\n",
    "import streamlit as st\n",
    "import plotly.graph_objects as go\n",
    "import plotly.express as px"
   ]
  },
  {
   "cell_type": "code",
   "execution_count": 19,
   "metadata": {},
   "outputs": [],
   "source": [
    "###################################### дизайн страницы ######################################"
   ]
  },
  {
   "cell_type": "code",
   "execution_count": 27,
   "metadata": {},
   "outputs": [
    {
     "data": {
      "text/plain": [
       "DeltaGenerator(_root_container=0, _provided_cursor=None, _parent=None, _block_type=None, _form_data=None)"
      ]
     },
     "execution_count": 27,
     "metadata": {},
     "output_type": "execute_result"
    }
   ],
   "source": [
    "# оформление страницы с дашбордом\n",
    "st.title(\"Отчет UrgY\")"
   ]
  },
  {
   "cell_type": "code",
   "execution_count": 20,
   "metadata": {},
   "outputs": [],
   "source": [
    "###################################### рассчеты ######################################"
   ]
  },
  {
   "cell_type": "code",
   "execution_count": 49,
   "metadata": {},
   "outputs": [],
   "source": [
    "# # для отладки\n",
    "# df = pd.read_csv('/Users/arturfattahov/Downloads/Telegram Desktop/offers_statuses (3).txt', sep='|')\n",
    "\n",
    "\n",
    "# для запуска\n",
    "count_task = \"offers_statuses (3).txt\"\n",
    "df = pd.read_csv(count_task, sep='|')"
   ]
  },
  {
   "cell_type": "code",
   "execution_count": 65,
   "metadata": {},
   "outputs": [],
   "source": [
    "# обработка датафрейма\n",
    "df = df.dropna()\n",
    "\n",
    "df.columns = ['offer_id', 'offer_created_at','platform','count_responds', 'count_prematch']\n",
    "\n",
    "df['offer_created_at'] = pd.to_datetime(df['offer_created_at'])\n",
    "df.offer_created_at = df.offer_created_at.values.astype('M8[D]')\n",
    "\n",
    "df['count_responds'] = df['count_responds'].astype(int)\n",
    "df['count_prematch'] = df['count_prematch'].astype(int)\n",
    "\n",
    "df['platform'] = df['platform'].str.strip()"
   ]
  },
  {
   "cell_type": "code",
   "execution_count": 25,
   "metadata": {},
   "outputs": [],
   "source": [
    "# разделение даты\n",
    "df_june = df[df['offer_created_at'] > '2022-05-31']\n",
    "df_may = df[df['offer_created_at'] < '2022-05-31']"
   ]
  },
  {
   "cell_type": "code",
   "execution_count": 24,
   "metadata": {},
   "outputs": [],
   "source": [
    "# общее количество задач\n",
    "all_task_june = df_june['offer_id'].nunique()\n",
    "all_task_may = df_may['offer_id'].nunique()\n",
    "\n",
    "# разниа в количестве задач\n",
    "difference_task = all_task_june - all_task_may\n"
   ]
  },
  {
   "cell_type": "code",
   "execution_count": 28,
   "metadata": {},
   "outputs": [],
   "source": [
    "# количество созданных задач в мобльном приложении\n",
    "task_mobile_may = df_may.query('platform == \"android\"').count()[0] + df_may.query('platform == \"ios\"').count()[0]\n",
    "task_mobile_june = df_june.query('platform == \"android\"').count()[0] + df_june.query('platform == \"ios\"').count()[0]"
   ]
  },
  {
   "cell_type": "code",
   "execution_count": 60,
   "metadata": {},
   "outputs": [],
   "source": [
    "# общее количество созданных задач по платформам\n",
    "\n",
    "count_task_platform_june = (\n",
    "    df_june\n",
    "    .pivot_table(index=[\"platform\"], values='offer_id', aggfunc='count'))\n",
    "\n",
    "count_task_platform_june = count_task_platform_june.reset_index()\n",
    "count_task_platform_june.columns = ['platform', 'count_task']\n",
    "\n",
    "count_task_platform_june = count_task_platform_june.query('platform != \"''\"')"
   ]
  },
  {
   "cell_type": "code",
   "execution_count": null,
   "metadata": {},
   "outputs": [],
   "source": []
  },
  {
   "cell_type": "code",
   "execution_count": null,
   "metadata": {},
   "outputs": [],
   "source": []
  },
  {
   "cell_type": "code",
   "execution_count": null,
   "metadata": {},
   "outputs": [],
   "source": []
  },
  {
   "cell_type": "code",
   "execution_count": null,
   "metadata": {},
   "outputs": [],
   "source": []
  },
  {
   "cell_type": "code",
   "execution_count": null,
   "metadata": {},
   "outputs": [],
   "source": []
  },
  {
   "cell_type": "code",
   "execution_count": 21,
   "metadata": {},
   "outputs": [],
   "source": [
    "###################################### отображение элементов ######################################"
   ]
  },
  {
   "cell_type": "code",
   "execution_count": 64,
   "metadata": {},
   "outputs": [],
   "source": [
    "# создание круговой диаграммы [Распределение задач по платформе]\n",
    "fig = px.pie(\n",
    "    count_task_platform_june,\n",
    "    values='count_task',\n",
    "    names='platform',\n",
    "    title='Распределение задач по платформе',\n",
    "    labels={\n",
    "                \"platform\": \"Платформа\",  \"count_task\": \"Количество задач\"\n",
    "            })\n",
    "\n",
    "st.metric(label=\"Количество созданных задач, июнь\", value=all_task_june, delta=difference_task)"
   ]
  },
  {
   "cell_type": "code",
   "execution_count": null,
   "metadata": {},
   "outputs": [],
   "source": []
  }
 ],
 "metadata": {
  "interpreter": {
   "hash": "aee8b7b246df8f9039afb4144a1f6fd8d2ca17a180786b69acc140d282b71a49"
  },
  "kernelspec": {
   "display_name": "Python 3.10.4 64-bit",
   "language": "python",
   "name": "python3"
  },
  "language_info": {
   "codemirror_mode": {
    "name": "ipython",
    "version": 3
   },
   "file_extension": ".py",
   "mimetype": "text/x-python",
   "name": "python",
   "nbconvert_exporter": "python",
   "pygments_lexer": "ipython3",
   "version": "3.10.4"
  },
  "orig_nbformat": 4
 },
 "nbformat": 4,
 "nbformat_minor": 2
}
